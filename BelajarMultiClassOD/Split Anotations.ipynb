{
 "cells": [
  {
   "cell_type": "code",
   "execution_count": 4,
   "id": "a23c24eb",
   "metadata": {},
   "outputs": [],
   "source": [
    "import pandas as pd"
   ]
  },
  {
   "cell_type": "code",
   "execution_count": 5,
   "id": "e30d23c7",
   "metadata": {},
   "outputs": [
    {
     "data": {
      "text/html": [
       "<div>\n",
       "<style scoped>\n",
       "    .dataframe tbody tr th:only-of-type {\n",
       "        vertical-align: middle;\n",
       "    }\n",
       "\n",
       "    .dataframe tbody tr th {\n",
       "        vertical-align: top;\n",
       "    }\n",
       "\n",
       "    .dataframe thead th {\n",
       "        text-align: right;\n",
       "    }\n",
       "</style>\n",
       "<table border=\"1\" class=\"dataframe\">\n",
       "  <thead>\n",
       "    <tr style=\"text-align: right;\">\n",
       "      <th></th>\n",
       "      <th>filename</th>\n",
       "      <th>width</th>\n",
       "      <th>height</th>\n",
       "      <th>class</th>\n",
       "      <th>xmin</th>\n",
       "      <th>ymin</th>\n",
       "      <th>xmax</th>\n",
       "      <th>ymax</th>\n",
       "    </tr>\n",
       "  </thead>\n",
       "  <tbody>\n",
       "    <tr>\n",
       "      <th>0</th>\n",
       "      <td>069842700_1622195028-Cara_Menghilangkan_Eksim_...</td>\n",
       "      <td>1200</td>\n",
       "      <td>675</td>\n",
       "      <td>Eksim</td>\n",
       "      <td>139</td>\n",
       "      <td>82</td>\n",
       "      <td>627</td>\n",
       "      <td>530</td>\n",
       "    </tr>\n",
       "    <tr>\n",
       "      <th>1</th>\n",
       "      <td>0a242212407a8deee44953850aa8.jpg</td>\n",
       "      <td>550</td>\n",
       "      <td>366</td>\n",
       "      <td>Kerutan</td>\n",
       "      <td>252</td>\n",
       "      <td>87</td>\n",
       "      <td>358</td>\n",
       "      <td>268</td>\n",
       "    </tr>\n",
       "    <tr>\n",
       "      <th>2</th>\n",
       "      <td>0_JS186891892.jpg</td>\n",
       "      <td>1200</td>\n",
       "      <td>1200</td>\n",
       "      <td>Vitiligo</td>\n",
       "      <td>122</td>\n",
       "      <td>179</td>\n",
       "      <td>704</td>\n",
       "      <td>1118</td>\n",
       "    </tr>\n",
       "    <tr>\n",
       "      <th>3</th>\n",
       "      <td>1.jpg</td>\n",
       "      <td>800</td>\n",
       "      <td>400</td>\n",
       "      <td>Eksim</td>\n",
       "      <td>8</td>\n",
       "      <td>27</td>\n",
       "      <td>324</td>\n",
       "      <td>378</td>\n",
       "    </tr>\n",
       "    <tr>\n",
       "      <th>4</th>\n",
       "      <td>1.jpg</td>\n",
       "      <td>800</td>\n",
       "      <td>400</td>\n",
       "      <td>Eksim</td>\n",
       "      <td>615</td>\n",
       "      <td>38</td>\n",
       "      <td>800</td>\n",
       "      <td>400</td>\n",
       "    </tr>\n",
       "  </tbody>\n",
       "</table>\n",
       "</div>"
      ],
      "text/plain": [
       "                                            filename  width  height     class  \\\n",
       "0  069842700_1622195028-Cara_Menghilangkan_Eksim_...   1200     675     Eksim   \n",
       "1                   0a242212407a8deee44953850aa8.jpg    550     366   Kerutan   \n",
       "2                                  0_JS186891892.jpg   1200    1200  Vitiligo   \n",
       "3                                              1.jpg    800     400     Eksim   \n",
       "4                                              1.jpg    800     400     Eksim   \n",
       "\n",
       "   xmin  ymin  xmax  ymax  \n",
       "0   139    82   627   530  \n",
       "1   252    87   358   268  \n",
       "2   122   179   704  1118  \n",
       "3     8    27   324   378  \n",
       "4   615    38   800   400  "
      ]
     },
     "execution_count": 5,
     "metadata": {},
     "output_type": "execute_result"
    }
   ],
   "source": [
    "all_data = pd.read_csv('./dataset/annotations/label.csv')\n",
    "all_data.head()"
   ]
  },
  {
   "cell_type": "code",
   "execution_count": 7,
   "id": "92c78207",
   "metadata": {},
   "outputs": [
    {
     "data": {
      "text/plain": [
       "array(['Eksim', 'Kerutan', 'Vitiligo', 'Milia', 'Flek Hitam', 'Herpes',\n",
       "       'jerawat', 'Actinic Keratosis', 'Basa Cell Carcinoma', 'Rosacea'],\n",
       "      dtype=object)"
      ]
     },
     "execution_count": 7,
     "metadata": {},
     "output_type": "execute_result"
    }
   ],
   "source": [
    "all_data['class'].unique()"
   ]
  },
  {
   "cell_type": "code",
   "execution_count": 10,
   "id": "1635bfda",
   "metadata": {},
   "outputs": [],
   "source": [
    "Eksim = all_data.groupby('class').get_group('Eksim')\n",
    "Kerutan = all_data.groupby('class').get_group('Kerutan')\n",
    "Vitiligo = all_data.groupby('class').get_group('Vitiligo')\n",
    "Milia = all_data.groupby('class').get_group('Milia')\n",
    "FlekHitam = all_data.groupby('class').get_group('Flek Hitam')\n",
    "Herpes = all_data.groupby('class').get_group('Herpes')\n",
    "jerawat = all_data.groupby('class').get_group('jerawat')\n",
    "ActinicKeratosis = all_data.groupby('class').get_group('Actinic Keratosis')\n",
    "BasaCellCarcinoma = all_data.groupby('class').get_group('Basa Cell Carcinoma')\n",
    "Rosacea = all_data.groupby('class').get_group('Rosacea')"
   ]
  },
  {
   "cell_type": "code",
   "execution_count": 11,
   "id": "5816c90d",
   "metadata": {},
   "outputs": [],
   "source": [
    "Eksim.to_csv('./dataset/annotations/eksim.csv', index=False)"
   ]
  },
  {
   "cell_type": "code",
   "execution_count": 12,
   "id": "ad7cc595",
   "metadata": {},
   "outputs": [],
   "source": [
    "Kerutan.to_csv('./dataset/annotations/kerutan.csv', index=False)\n",
    "Vitiligo.to_csv('./dataset/annotations/vitiligo.csv', index=False)\n",
    "Milia.to_csv('./dataset/annotations/milia.csv', index=False)\n",
    "FlekHitam.to_csv('./dataset/annotations/flekHitam.csv', index=False)\n",
    "Herpes.to_csv('./dataset/annotations/herpes.csv', index=False)\n",
    "jerawat.to_csv('./dataset/annotations/jerawat.csv', index=False)\n",
    "ActinicKeratosis.to_csv('./dataset/annotations/actinicKeratosis.csv', index=False)\n",
    "BasaCellCarcinoma.to_csv('./dataset/annotations/basaCellCarcinoma.csv', index=False)\n",
    "Rosacea.to_csv('./dataset/annotations/rosacea.csv', index=False)"
   ]
  },
  {
   "cell_type": "code",
   "execution_count": null,
   "id": "34d6954a",
   "metadata": {},
   "outputs": [],
   "source": []
  }
 ],
 "metadata": {
  "kernelspec": {
   "display_name": "Python 3 (ipykernel)",
   "language": "python",
   "name": "python3"
  },
  "language_info": {
   "codemirror_mode": {
    "name": "ipython",
    "version": 3
   },
   "file_extension": ".py",
   "mimetype": "text/x-python",
   "name": "python",
   "nbconvert_exporter": "python",
   "pygments_lexer": "ipython3",
   "version": "3.8.4"
  }
 },
 "nbformat": 4,
 "nbformat_minor": 5
}
